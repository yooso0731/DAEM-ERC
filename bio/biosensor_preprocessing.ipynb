{
  "nbformat": 4,
  "nbformat_minor": 0,
  "metadata": {
    "colab": {
      "provenance": []
    },
    "kernelspec": {
      "name": "python3",
      "display_name": "Python 3"
    },
    "language_info": {
      "name": "python"
    }
  },
  "cells": [
    {
      "cell_type": "markdown",
      "source": [
        "#BIO Sensor 데이터 초기 전처리"
      ],
      "metadata": {
        "id": "JMnGDqueKJAH"
      }
    },
    {
      "cell_type": "code",
      "source": [
        "# Drive mount\n",
        "from google.colab import drive\n",
        "drive.mount('/content/drive')\n",
        "\n",
        "import os\n",
        "os.chdir('/content/drive/MyDrive/ETRI_ERC')\n",
        "print(os.getcwd())"
      ],
      "metadata": {
        "id": "ueUv3Z9wv3uc"
      },
      "execution_count": null,
      "outputs": []
    },
    {
      "cell_type": "markdown",
      "source": [
        "각 Sesstion에서 script별로 나눠져있는 바이오 데이터 합치기"
      ],
      "metadata": {
        "id": "cFjkc9FiKW5l"
      }
    },
    {
      "cell_type": "code",
      "source": [
        "import pandas as pd\n",
        "import numpy as np\n",
        "import pickle\n",
        "from tqdm import tqdm\n",
        "\n",
        "# 불러올 파일 경로\n",
        "path_dir = './dataset/KEMDy20_v1_1/EDA'\n",
        "# 지정된 경로의 파일 모두 리스트에 불러오기\n",
        "sess_FList = os.listdir(path_dir)\n",
        "\n",
        "# 저장할 파일 경로\n",
        "drop_dir ='./dataset/KEMDy20_v1_1/sensor/EDA/'\n",
        "\n",
        "# 세션에서 스크립트별로 나눠져있던 eda 데이터 합치기기\n",
        "for folder in sess_FList:\n",
        "  lst = []\n",
        "  sess_save=[] # ('session_number', 'EDA')\n",
        "  eda_FList = os.listdir(path_dir+'/'+folder)\n",
        "  for script in eda_FList:\n",
        "      with open('./dataset/KEMDy20_v1_1/EDA/'+folder+'/'+script) as lines:\n",
        "        b = list(map(str, script.split('_')))\n",
        "        for line in lines:\n",
        "          data = line.strip().split(',')\n",
        "          if len(data)==3:\n",
        "            a = list(map(str, data[2].split('_')))\n",
        "            data[2] = data[2].replace(a[0],b[0])\n",
        "            lst.append(data)\n",
        "  df = pd.DataFrame(lst, columns=['data','date','sess'])\n",
        "  df = df.astype({'data':float})  \n",
        "  \n",
        "  sess_name = df.sess.unique()\n",
        "  for sess in tqdm(sess_name):\n",
        "    eda=list(df[df.sess == sess].data.values)\n",
        "    sess_list = [sess, eda]\n",
        "    sess_save.append(sess_list)\n",
        "  sess_save_df = pd.DataFrame(sess_save, columns=['session', 'eda'])\n",
        "  sess_save_df.to_pickle(drop_dir+folder+'_eda.pkl')"
      ],
      "metadata": {
        "id": "pMnf80DXKExm"
      },
      "execution_count": null,
      "outputs": []
    },
    {
      "cell_type": "code",
      "source": [
        "import pandas as pd\n",
        "import numpy as np\n",
        "import pickle\n",
        "from tqdm import tqdm\n",
        "\n",
        "# 불러올 파일 경로\n",
        "path_dir = './dataset/KEMDy20_v1_1/TEMP'\n",
        "# 지정된 경로의 파일 모두 리스트에 불러오기\n",
        "sess_FList = os.listdir(path_dir)\n",
        "\n",
        "# 저장할 파일 경로\n",
        "drop_dir ='./dataset/KEMDy20_v1_1/sensor/Temp/'\n",
        "\n",
        "# 세션에서 스크립트별로 나눠져있던 temp 데이터 합치기\n",
        "for folder in sess_FList:\n",
        "  lst = []\n",
        "  sess_save=[] \n",
        "  temp_FList = os.listdir(path_dir+'/'+folder)\n",
        "  for script in temp_FList:\n",
        "      with open('./dataset/KEMDy20_v1_1/TEMP/'+folder+'/'+script) as lines:\n",
        "        b = list(map(str, script.split('_')))\n",
        "        for line in lines:\n",
        "          data = line.strip().split(',')\n",
        "          if len(data)==3:\n",
        "            a = list(map(str, data[2].split('_')))\n",
        "            data[2] = data[2].replace(a[0],b[0])\n",
        "            lst.append(data)\n",
        "  df = pd.DataFrame(lst, columns=['data','date','sess'])\n",
        "  df = df.astype({'data':float})  \n",
        "  \n",
        "  sess_name = df.sess.unique()\n",
        "  for sess in tqdm(sess_name):\n",
        "    eda=list(df[df.sess == sess].data.values)\n",
        "    sess_list = [sess, eda]\n",
        "    sess_save.append(sess_list)\n",
        "\n",
        "  sess_save_df = pd.DataFrame(sess_save, columns=['session', 'temp'])\n",
        "  sess_save_df.to_pickle(drop_dir+folder+'_temp.pkl')"
      ],
      "metadata": {
        "id": "iCGLCgbPKUSh"
      },
      "execution_count": null,
      "outputs": []
    },
    {
      "cell_type": "markdown",
      "source": [
        "전체 바이오 데이터 합치기"
      ],
      "metadata": {
        "id": "Le-bf-kDKgEN"
      }
    },
    {
      "cell_type": "code",
      "source": [
        "import pandas as pd\n",
        "import numpy as np\n",
        "import pickle\n",
        "from tqdm import tqdm\n",
        "import os\n",
        "\n",
        "# 세션별 저장한 바이오(eda, temo)파일 경로 지정\n",
        "eda_dir = './dataset/KEMDy20_v1_1/new/EDA'\n",
        "temp_dir = './dataset/KEMDy20_v1_1/new/Temp'\n",
        "\n",
        "# 지젇된 경로 파일 불러오기 및 정렬렬\n",
        "eda_sess_FList = sorted(os.listdir(eda_dir))\n",
        "temp_sess_FList = sorted(os.listdir(temp_dir))\n",
        "\n",
        "# 빈 데이터 프레임 만들기\n",
        "bio_all = pd.DataFrame(columns=['segment_id','eda','temp'])\n",
        "\n",
        "# 세션별 저장된 바이오(eda,temp) 데이터 합치기\n",
        "for eda, temp in zip(eda_sess_FList, temp_sess_FList):\n",
        "  print(eda, temp)\n",
        "  TEMP = pd.read_pickle('./dataset/KEMDy20_v1_1/new/Temp/'+ temp )\n",
        "  EDA = pd.read_pickle('./dataset//KEMDy20_v1_1/new/EDA/'+ eda )\n",
        "  TEMP.columns = ['segment_id','temp']\n",
        "  EDA.columns = ['segment_id','eda']\n",
        "  bio = EDA.merge(TEMP, on = 'segment_id')\n",
        "  bio_all = pd.concat([bio_all, bio], ignore_index=True)\n",
        "  bio_all"
      ],
      "metadata": {
        "id": "mK2pfv02KgN5",
        "colab": {
          "base_uri": "https://localhost:8080/"
        },
        "outputId": "ede86b5d-2069-4dfc-baf8-9573716214d2"
      },
      "execution_count": null,
      "outputs": [
        {
          "output_type": "stream",
          "name": "stdout",
          "text": [
            "Session01_eda.pkl Session01_temp.pkl\n",
            "Session02_eda.pkl Session02_temp.pkl\n",
            "Session03_eda.pkl Session03_temp.pkl\n",
            "Session04_eda.pkl Session04_temp.pkl\n",
            "Session05_eda.pkl Session05_temp.pkl\n",
            "Session06_eda.pkl Session06_temp.pkl\n",
            "Session07_eda.pkl Session07_temp.pkl\n",
            "Session08_eda.pkl Session08_temp.pkl\n",
            "Session09_eda.pkl Session09_temp.pkl\n",
            "Session10_eda.pkl Session10_temp.pkl\n",
            "Session11_eda.pkl Session11_temp.pkl\n",
            "Session12_eda.pkl Session12_temp.pkl\n",
            "Session13_eda.pkl Session13_temp.pkl\n",
            "Session14_eda.pkl Session14_temp.pkl\n",
            "Session15_eda.pkl Session15_temp.pkl\n",
            "Session16_eda.pkl Session16_temp.pkl\n",
            "Session17_eda.pkl Session17_temp.pkl\n",
            "Session18_eda.pkl Session18_temp.pkl\n",
            "Session19_eda.pkl Session19_temp.pkl\n",
            "Session20_eda.pkl Session20_temp.pkl\n",
            "Session21_eda.pkl Session21_temp.pkl\n",
            "Session22_eda.pkl Session22_temp.pkl\n",
            "Session23_eda.pkl Session23_temp.pkl\n",
            "Session24_eda.pkl Session24_temp.pkl\n",
            "Session25_eda.pkl Session25_temp.pkl\n",
            "Session26_eda.pkl Session26_temp.pkl\n",
            "Session27_eda.pkl Session27_temp.pkl\n",
            "Session28_eda.pkl Session28_temp.pkl\n",
            "Session29_eda.pkl Session29_temp.pkl\n",
            "Session30_eda.pkl Session30_temp.pkl\n",
            "Session31_eda.pkl Session31_temp.pkl\n",
            "Session32_eda.pkl Session32_temp.pkl\n",
            "Session33_eda.pkl Session33_temp.pkl\n",
            "Session34_eda.pkl Session34_temp.pkl\n",
            "Session35_eda.pkl Session35_temp.pkl\n",
            "Session36_eda.pkl Session36_temp.pkl\n",
            "Session37_eda.pkl Session37_temp.pkl\n",
            "Session38_eda.pkl Session38_temp.pkl\n",
            "Session39_eda.pkl Session39_temp.pkl\n",
            "Session40_eda.pkl Session40_temp.pkl\n"
          ]
        }
      ]
    },
    {
      "cell_type": "code",
      "source": [
        "bio_all"
      ],
      "metadata": {
        "colab": {
          "base_uri": "https://localhost:8080/",
          "height": 424
        },
        "id": "9pA9r-rfnqI3",
        "outputId": "32fe67a9-ae99-4616-ce66-ac0a015bd1de"
      },
      "execution_count": null,
      "outputs": [
        {
          "output_type": "execute_result",
          "data": {
            "text/plain": [
              "                         segment_id  \\\n",
              "0      Sess01_script01_User001F_001   \n",
              "1      Sess01_script01_User001F_002   \n",
              "2      Sess01_script01_User001F_003   \n",
              "3      Sess01_script01_User001F_004   \n",
              "4      Sess01_script01_User001F_005   \n",
              "...                             ...   \n",
              "13410  Sess40_script01_User080F_038   \n",
              "13411  Sess40_script01_User080F_039   \n",
              "13412  Sess40_script01_User080F_040   \n",
              "13413  Sess40_script01_User080F_041   \n",
              "13414  Sess40_script01_User080F_042   \n",
              "\n",
              "                                                     eda  \\\n",
              "0      [4.412055, 4.536246, 4.630991, 4.669401, 4.661...   \n",
              "1      [4.842703, 4.883674, 4.87215, 4.808134, 4.7940...   \n",
              "2      [5.233203, 5.178149, 5.084685, 4.979698, 4.932...   \n",
              "3      [5.17896, 5.131588, 5.105982, 5.085496, 5.0752...   \n",
              "4      [5.37357, 5.41198, 5.479838, 5.578423, 5.60915...   \n",
              "...                                                  ...   \n",
              "13410  [2.766943, 2.853937, 2.860334, 2.879524, 2.878...   \n",
              "13411  [2.683786, 2.60063, 2.573764, 2.560971, 2.5405...   \n",
              "13412  [2.662038, 2.722166, 2.746474, 2.740077, 2.729...   \n",
              "13413  [2.754149, 2.724725, 2.713211, 2.685066, 2.658...   \n",
              "13414  [2.575044, 2.609586, 2.699138, 2.816837, 2.903...   \n",
              "\n",
              "                                                    temp  \n",
              "0      [34.55, 34.55, 34.55, 34.55, 34.55, 34.55, 34....  \n",
              "1      [34.59, 34.59, 34.59, 34.59, 34.59, 34.59, 34....  \n",
              "2      [34.61, 34.61, 34.61, 34.61, 34.61, 34.61, 34....  \n",
              "3      [34.63, 34.63, 34.63, 34.63, 34.63, 34.63, 34....  \n",
              "4      [34.63, 34.63, 34.63, 34.63, 34.63, 34.63, 34....  \n",
              "...                                                  ...  \n",
              "13410  [33.91, 33.91, 33.91, 33.91, 33.91, 33.91, 33....  \n",
              "13411  [33.91, 33.91, 33.91, 33.91, 33.93, 33.93, 33....  \n",
              "13412  [33.89, 33.89, 33.93, 33.93, 33.93, 33.93, 33.91]  \n",
              "13413  [33.91, 33.91, 33.93, 33.93, 33.93, 33.93, 33....  \n",
              "13414  [33.91, 33.91, 33.93, 33.93, 33.93, 33.93, 33....  \n",
              "\n",
              "[13415 rows x 3 columns]"
            ],
            "text/html": [
              "\n",
              "  <div id=\"df-28797f94-458f-4184-a9b1-c60165b4dc6a\">\n",
              "    <div class=\"colab-df-container\">\n",
              "      <div>\n",
              "<style scoped>\n",
              "    .dataframe tbody tr th:only-of-type {\n",
              "        vertical-align: middle;\n",
              "    }\n",
              "\n",
              "    .dataframe tbody tr th {\n",
              "        vertical-align: top;\n",
              "    }\n",
              "\n",
              "    .dataframe thead th {\n",
              "        text-align: right;\n",
              "    }\n",
              "</style>\n",
              "<table border=\"1\" class=\"dataframe\">\n",
              "  <thead>\n",
              "    <tr style=\"text-align: right;\">\n",
              "      <th></th>\n",
              "      <th>segment_id</th>\n",
              "      <th>eda</th>\n",
              "      <th>temp</th>\n",
              "    </tr>\n",
              "  </thead>\n",
              "  <tbody>\n",
              "    <tr>\n",
              "      <th>0</th>\n",
              "      <td>Sess01_script01_User001F_001</td>\n",
              "      <td>[4.412055, 4.536246, 4.630991, 4.669401, 4.661...</td>\n",
              "      <td>[34.55, 34.55, 34.55, 34.55, 34.55, 34.55, 34....</td>\n",
              "    </tr>\n",
              "    <tr>\n",
              "      <th>1</th>\n",
              "      <td>Sess01_script01_User001F_002</td>\n",
              "      <td>[4.842703, 4.883674, 4.87215, 4.808134, 4.7940...</td>\n",
              "      <td>[34.59, 34.59, 34.59, 34.59, 34.59, 34.59, 34....</td>\n",
              "    </tr>\n",
              "    <tr>\n",
              "      <th>2</th>\n",
              "      <td>Sess01_script01_User001F_003</td>\n",
              "      <td>[5.233203, 5.178149, 5.084685, 4.979698, 4.932...</td>\n",
              "      <td>[34.61, 34.61, 34.61, 34.61, 34.61, 34.61, 34....</td>\n",
              "    </tr>\n",
              "    <tr>\n",
              "      <th>3</th>\n",
              "      <td>Sess01_script01_User001F_004</td>\n",
              "      <td>[5.17896, 5.131588, 5.105982, 5.085496, 5.0752...</td>\n",
              "      <td>[34.63, 34.63, 34.63, 34.63, 34.63, 34.63, 34....</td>\n",
              "    </tr>\n",
              "    <tr>\n",
              "      <th>4</th>\n",
              "      <td>Sess01_script01_User001F_005</td>\n",
              "      <td>[5.37357, 5.41198, 5.479838, 5.578423, 5.60915...</td>\n",
              "      <td>[34.63, 34.63, 34.63, 34.63, 34.63, 34.63, 34....</td>\n",
              "    </tr>\n",
              "    <tr>\n",
              "      <th>...</th>\n",
              "      <td>...</td>\n",
              "      <td>...</td>\n",
              "      <td>...</td>\n",
              "    </tr>\n",
              "    <tr>\n",
              "      <th>13410</th>\n",
              "      <td>Sess40_script01_User080F_038</td>\n",
              "      <td>[2.766943, 2.853937, 2.860334, 2.879524, 2.878...</td>\n",
              "      <td>[33.91, 33.91, 33.91, 33.91, 33.91, 33.91, 33....</td>\n",
              "    </tr>\n",
              "    <tr>\n",
              "      <th>13411</th>\n",
              "      <td>Sess40_script01_User080F_039</td>\n",
              "      <td>[2.683786, 2.60063, 2.573764, 2.560971, 2.5405...</td>\n",
              "      <td>[33.91, 33.91, 33.91, 33.91, 33.93, 33.93, 33....</td>\n",
              "    </tr>\n",
              "    <tr>\n",
              "      <th>13412</th>\n",
              "      <td>Sess40_script01_User080F_040</td>\n",
              "      <td>[2.662038, 2.722166, 2.746474, 2.740077, 2.729...</td>\n",
              "      <td>[33.89, 33.89, 33.93, 33.93, 33.93, 33.93, 33.91]</td>\n",
              "    </tr>\n",
              "    <tr>\n",
              "      <th>13413</th>\n",
              "      <td>Sess40_script01_User080F_041</td>\n",
              "      <td>[2.754149, 2.724725, 2.713211, 2.685066, 2.658...</td>\n",
              "      <td>[33.91, 33.91, 33.93, 33.93, 33.93, 33.93, 33....</td>\n",
              "    </tr>\n",
              "    <tr>\n",
              "      <th>13414</th>\n",
              "      <td>Sess40_script01_User080F_042</td>\n",
              "      <td>[2.575044, 2.609586, 2.699138, 2.816837, 2.903...</td>\n",
              "      <td>[33.91, 33.91, 33.93, 33.93, 33.93, 33.93, 33....</td>\n",
              "    </tr>\n",
              "  </tbody>\n",
              "</table>\n",
              "<p>13415 rows × 3 columns</p>\n",
              "</div>\n",
              "      <button class=\"colab-df-convert\" onclick=\"convertToInteractive('df-28797f94-458f-4184-a9b1-c60165b4dc6a')\"\n",
              "              title=\"Convert this dataframe to an interactive table.\"\n",
              "              style=\"display:none;\">\n",
              "        \n",
              "  <svg xmlns=\"http://www.w3.org/2000/svg\" height=\"24px\"viewBox=\"0 0 24 24\"\n",
              "       width=\"24px\">\n",
              "    <path d=\"M0 0h24v24H0V0z\" fill=\"none\"/>\n",
              "    <path d=\"M18.56 5.44l.94 2.06.94-2.06 2.06-.94-2.06-.94-.94-2.06-.94 2.06-2.06.94zm-11 1L8.5 8.5l.94-2.06 2.06-.94-2.06-.94L8.5 2.5l-.94 2.06-2.06.94zm10 10l.94 2.06.94-2.06 2.06-.94-2.06-.94-.94-2.06-.94 2.06-2.06.94z\"/><path d=\"M17.41 7.96l-1.37-1.37c-.4-.4-.92-.59-1.43-.59-.52 0-1.04.2-1.43.59L10.3 9.45l-7.72 7.72c-.78.78-.78 2.05 0 2.83L4 21.41c.39.39.9.59 1.41.59.51 0 1.02-.2 1.41-.59l7.78-7.78 2.81-2.81c.8-.78.8-2.07 0-2.86zM5.41 20L4 18.59l7.72-7.72 1.47 1.35L5.41 20z\"/>\n",
              "  </svg>\n",
              "      </button>\n",
              "      \n",
              "  <style>\n",
              "    .colab-df-container {\n",
              "      display:flex;\n",
              "      flex-wrap:wrap;\n",
              "      gap: 12px;\n",
              "    }\n",
              "\n",
              "    .colab-df-convert {\n",
              "      background-color: #E8F0FE;\n",
              "      border: none;\n",
              "      border-radius: 50%;\n",
              "      cursor: pointer;\n",
              "      display: none;\n",
              "      fill: #1967D2;\n",
              "      height: 32px;\n",
              "      padding: 0 0 0 0;\n",
              "      width: 32px;\n",
              "    }\n",
              "\n",
              "    .colab-df-convert:hover {\n",
              "      background-color: #E2EBFA;\n",
              "      box-shadow: 0px 1px 2px rgba(60, 64, 67, 0.3), 0px 1px 3px 1px rgba(60, 64, 67, 0.15);\n",
              "      fill: #174EA6;\n",
              "    }\n",
              "\n",
              "    [theme=dark] .colab-df-convert {\n",
              "      background-color: #3B4455;\n",
              "      fill: #D2E3FC;\n",
              "    }\n",
              "\n",
              "    [theme=dark] .colab-df-convert:hover {\n",
              "      background-color: #434B5C;\n",
              "      box-shadow: 0px 1px 3px 1px rgba(0, 0, 0, 0.15);\n",
              "      filter: drop-shadow(0px 1px 2px rgba(0, 0, 0, 0.3));\n",
              "      fill: #FFFFFF;\n",
              "    }\n",
              "  </style>\n",
              "\n",
              "      <script>\n",
              "        const buttonEl =\n",
              "          document.querySelector('#df-28797f94-458f-4184-a9b1-c60165b4dc6a button.colab-df-convert');\n",
              "        buttonEl.style.display =\n",
              "          google.colab.kernel.accessAllowed ? 'block' : 'none';\n",
              "\n",
              "        async function convertToInteractive(key) {\n",
              "          const element = document.querySelector('#df-28797f94-458f-4184-a9b1-c60165b4dc6a');\n",
              "          const dataTable =\n",
              "            await google.colab.kernel.invokeFunction('convertToInteractive',\n",
              "                                                     [key], {});\n",
              "          if (!dataTable) return;\n",
              "\n",
              "          const docLinkHtml = 'Like what you see? Visit the ' +\n",
              "            '<a target=\"_blank\" href=https://colab.research.google.com/notebooks/data_table.ipynb>data table notebook</a>'\n",
              "            + ' to learn more about interactive tables.';\n",
              "          element.innerHTML = '';\n",
              "          dataTable['output_type'] = 'display_data';\n",
              "          await google.colab.output.renderOutput(dataTable, element);\n",
              "          const docLink = document.createElement('div');\n",
              "          docLink.innerHTML = docLinkHtml;\n",
              "          element.appendChild(docLink);\n",
              "        }\n",
              "      </script>\n",
              "    </div>\n",
              "  </div>\n",
              "  "
            ]
          },
          "metadata": {},
          "execution_count": 5
        }
      ]
    },
    {
      "cell_type": "code",
      "source": [
        "# Drive mount\n",
        "\n",
        "from google.colab import drive\n",
        "drive.mount('/content/drive')\n",
        "\n",
        "import os\n",
        "os.chdir('/content/drive/MyDrive/ETRI_ERC')\n",
        "print(os.getcwd())"
      ],
      "metadata": {
        "colab": {
          "base_uri": "https://localhost:8080/"
        },
        "id": "ICk7Sj0DnaUH",
        "outputId": "80e2ee13-297c-4f19-ccac-7460767549c8"
      },
      "execution_count": null,
      "outputs": [
        {
          "output_type": "stream",
          "name": "stdout",
          "text": [
            "Mounted at /content/drive\n",
            "/content/drive/.shortcut-targets-by-id/1HDPBJOLN1u3_tw7ZcQ5QhoHEueoHd0to/ETRI_ERC\n"
          ]
        }
      ]
    },
    {
      "cell_type": "markdown",
      "source": [
        "segment_id를 기준으로 annotation데이터와 합치기"
      ],
      "metadata": {
        "id": "Xu7W9JZagGsY"
      }
    },
    {
      "cell_type": "code",
      "source": [
        "# 전처리된 annotation 데이터 불러오기\n",
        "\n",
        "train = pd.read_pickle('./dataset/KEMDy20_v1_1/new/annotation/train_origin.pkl')\n",
        "test = pd.read_pickle('./dataset/KEMDy20_v1_1/new/annotation/test_origin.pkl')"
      ],
      "metadata": {
        "id": "thwSIttKgAOd"
      },
      "execution_count": null,
      "outputs": []
    },
    {
      "cell_type": "code",
      "source": [
        "# annotation 데이터와 segment_id 기준으로 merge\n",
        "\n",
        "bio_train = train.merge(bio_all, how = 'inner', on = 'segment_id')\n",
        "bio_test = test.merge(bio_all, how = 'inner', on = 'segment_id')"
      ],
      "metadata": {
        "id": "0CAbprpilg1n"
      },
      "execution_count": null,
      "outputs": []
    },
    {
      "cell_type": "code",
      "source": [
        "# 최종종 바이오 데이터 프레임 저장\n",
        "\n",
        "bio_train.to_pickle('./dataset/KEMDy20_v1_1/sensor/bio_train/train_origin.pkl')\n",
        "bio_test.to_pickle('./dataset/KEMDy20_v1_1/sensor/bio_train/test_origin.pkl')"
      ],
      "metadata": {
        "id": "lLzh4R6rlg33"
      },
      "execution_count": null,
      "outputs": []
    },
    {
      "cell_type": "markdown",
      "source": [
        "#데이터 증강 및 패딩 과정"
      ],
      "metadata": {
        "id": "wYTvVFgAhBA4"
      }
    },
    {
      "cell_type": "code",
      "source": [
        "# 데이터 불러오기\n",
        "train = pd.read_pickle('./dataset/KEMDy20_v1_1/sensor/bio_train/train_origin.pkl') \n",
        "test = pd.read_pickle('./dataset/KEMDy20_v1_1/sensor/bio_train/test_origin.pkl')"
      ],
      "metadata": {
        "id": "fZhdapMzCmEY"
      },
      "execution_count": null,
      "outputs": []
    },
    {
      "cell_type": "code",
      "source": [
        "# 패딩 함수\n",
        "def get_numpy_from_nonfixed_2d_array(aa, fixed_length=141):\n",
        "    rows = []\n",
        "    for a in aa:\n",
        "        rows.append(np.pad(a, (0, fixed_length), 'constant', constant_values=0)[:fixed_length])\n",
        "    return np.concatenate(rows, axis=0).reshape(-1, fixed_length)"
      ],
      "metadata": {
        "id": "eLk6Wuf_g-oe"
      },
      "execution_count": null,
      "outputs": []
    },
    {
      "cell_type": "code",
      "source": [
        "# 데이터 패딩 진행\n",
        "temp = get_numpy_from_nonfixed_2d_array(train['temp'])\n",
        "eda = get_numpy_from_nonfixed_2d_array(train['eda'])\n",
        "train_y = train.emotion_id.values"
      ],
      "metadata": {
        "id": "oZ8SchhrCbqV"
      },
      "execution_count": null,
      "outputs": []
    },
    {
      "cell_type": "markdown",
      "source": [
        "\"기쁨\" 맞춰 데이터 증강"
      ],
      "metadata": {
        "id": "cc4znl8JBBpp"
      }
    },
    {
      "cell_type": "code",
      "source": [
        "Temp=pd.DataFrame(temp)\n",
        "Temp['emotion']=pd.DataFrame(train_y)\n",
        "\n",
        "EDA = pd.DataFrame(eda)\n",
        "EDA['emotion']=pd.DataFrame(train_y)\n",
        "\n",
        "nedf = EDA.loc[(EDA.emotion==4),:].drop(['emotion'],axis=1).to_numpy()\n",
        "ntdf = Temp.loc[(Temp.emotion==4),:].drop(['emotion'],axis=1).to_numpy()\n",
        "n_y = Temp.loc[(Temp.emotion==4),'emotion'].to_numpy()\n",
        "\n",
        "edf = EDA.loc[(EDA.emotion!=4),:].drop(['emotion'],axis=1).to_numpy()\n",
        "tdf = Temp.loc[(Temp.emotion!=4),:].drop(['emotion'],axis=1).to_numpy()\n",
        "y =EDA.loc[(EDA.emotion!=4),'emotion'].to_numpy()"
      ],
      "metadata": {
        "id": "QA3fFONsAu7J"
      },
      "execution_count": null,
      "outputs": []
    },
    {
      "cell_type": "code",
      "source": [
        "from imblearn.over_sampling import SMOTE\n",
        "smote = SMOTE(random_state= 1024)\n",
        "temp_x,t_y = smote.fit_resample(tdf,y)\n",
        "eda_x,t_y = smote.fit_resample(edf,y)"
      ],
      "metadata": {
        "id": "P0zJLC4XA-7H"
      },
      "execution_count": null,
      "outputs": []
    },
    {
      "cell_type": "code",
      "source": [
        "htemp = np.concatenate((temp_x,ntdf), axis=0)\n",
        "heda = np.concatenate((eda_x,nedf), axis=0)\n",
        "h_y = np.concatenate((t_y,n_y), axis=0)"
      ],
      "metadata": {
        "id": "th-6MCCEBBwe"
      },
      "execution_count": null,
      "outputs": []
    },
    {
      "cell_type": "code",
      "source": [
        "import numpy as  np\n",
        "import pandas as pd\n",
        "import pickle\n",
        "import torch\n",
        "\n",
        "# annotation과 합친 바이오데이터 파일 불러오기기\n",
        "train = pd.read_pickle('./dataset/KEMDy20_v1_1/sensor/bio_train/train_origin.pkl')\n",
        "test = pd.read_pickle('./dataset/KEMDy20_v1_1/sensor/bio_train/test_origin.pkl')\n",
        "\n",
        "# 데이터 padding\n",
        "temp = get_numpy_from_nonfixed_2d_array(train['temp'])\n",
        "eda = get_numpy_from_nonfixed_2d_array(train['eda'])\n",
        "train_y = train.emotion_id.values\n",
        "\n",
        "# padding한 array에서 \"중립\" 클래스 데이터 제외\n",
        "Temp=pd.DataFrame(temp)\n",
        "Temp['emotion']=pd.DataFrame(train_y)\n",
        "\n",
        "EDA = pd.DataFrame(eda)\n",
        "EDA['emotion']=pd.DataFrame(train_y)\n",
        "\n",
        "nedf = EDA.loc[(EDA.emotion==4),:].drop(['emotion'],axis=1).to_numpy()\n",
        "ntdf = Temp.loc[(Temp.emotion==4),:].drop(['emotion'],axis=1).to_numpy()\n",
        "n_y = Temp.loc[(Temp.emotion==4),'emotion'].to_numpy()\n",
        "\n",
        "edf = EDA.loc[(EDA.emotion!=4),:].drop(['emotion'],axis=1).to_numpy()\n",
        "tdf = Temp.loc[(Temp.emotion!=4),:].drop(['emotion'],axis=1).to_numpy()\n",
        "y =EDA.loc[(EDA.emotion!=4),'emotion'].to_numpy()"
      ],
      "metadata": {
        "id": "1fIbWIAvhIOu"
      },
      "execution_count": null,
      "outputs": []
    },
    {
      "cell_type": "code",
      "source": [
        "# 데이터 증강\n",
        "from imblearn.over_sampling import SMOTE\n",
        "smote = SMOTE(random_state= 1024)\n",
        "temp_x,t_y = smote.fit_resample(tdf,y)\n",
        "eda_x,t_y = smote.fit_resample(edf,y)"
      ],
      "metadata": {
        "id": "zCT5yHhTB0Vk"
      },
      "execution_count": null,
      "outputs": []
    },
    {
      "cell_type": "code",
      "source": [
        "# \"중립\" 클래스 데이터와 합치기기\n",
        "htemp = np.concatenate((temp_x,ntdf), axis=0)\n",
        "heda = np.concatenate((eda_x,nedf), axis=0)\n",
        "h_y = np.concatenate((t_y,n_y), axis=0)"
      ],
      "metadata": {
        "id": "wZQIdDtSB2Hc"
      },
      "execution_count": null,
      "outputs": []
    },
    {
      "cell_type": "code",
      "source": [
        "# 증강한 바이오 데이터 배열 저장\n",
        "np.save('./dataset/KEMDy20_v1_1/sensor/bio_train/temp_x.npy',htemp)\n",
        "np.save('./dataset/KEMDy20_v1_1/sensor/bio_train/eda_x.npy',heda)\n",
        "np.save('./dataset/KEMDy20_v1_1/sensor/bio_train/t_y.npy',h_y)"
      ],
      "metadata": {
        "id": "NSBDUdIihp9I"
      },
      "execution_count": null,
      "outputs": []
    }
  ]
}