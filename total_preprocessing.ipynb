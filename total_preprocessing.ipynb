{
 "cells": [
  {
   "cell_type": "code",
   "execution_count": 1,
   "metadata": {
    "id": "biFKS-JfoRvr"
   },
   "outputs": [],
   "source": [
    "import os\n",
    "\n",
    "import numpy as np\n",
    "import pandas as pd\n",
    "import pickle\n",
    "from tqdm import tqdm\n",
    "\n",
    "import librosa\n",
    "\n",
    "from collections import Counter\n",
    "import matplotlib.pyplot as plt\n",
    "\n",
    "from sklearn.preprocessing import LabelEncoder"
   ]
  },
  {
   "cell_type": "code",
   "execution_count": 2,
   "metadata": {},
   "outputs": [],
   "source": [
    "# parameters\n",
    "  # path_dir: 데이터셋 루트 경로\n",
    "  # save_dir: annotation 데이터 저장 경로\n",
    "\n",
    "path_dir = '../dataset/KEMDy20_v1_1'\n",
    "save_dir = '../dataset/KEMDy20_v1_1/new/annotation'"
   ]
  },
  {
   "cell_type": "code",
   "execution_count": 3,
   "metadata": {},
   "outputs": [],
   "source": [
    "# 필요한 폴더 생성\n",
    "\n",
    "os.mkdir(path_dir+'/new')\n",
    "os.mkdir(path_dir+'/new/annotation')\n",
    "os.mkdir(path_dir+'/new/text')\n",
    "os.mkdir(path_dir+'/new/wav')\n",
    "os.mkdir(path_dir+'/new/sensor')\n",
    "os.mkdir(path_dir+'/new/sensor/EDA')\n",
    "os.mkdir(path_dir+'/new/sensor/Temp')\n",
    "os.mkdir(path_dir+'/new/sensor/bio_train')"
   ]
  },
  {
   "cell_type": "code",
   "execution_count": 4,
   "metadata": {
    "colab": {
     "base_uri": "https://localhost:8080/",
     "height": 238
    },
    "executionInfo": {
     "elapsed": 2196,
     "status": "ok",
     "timestamp": 1680849366890,
     "user": {
      "displayName": "유소영",
      "userId": "12294653541891676256"
     },
     "user_tz": -540
    },
    "id": "yKmooVgv6Gq2",
    "outputId": "aa959c17-1210-407f-f826-a3509115cd5f"
   },
   "outputs": [
    {
     "data": {
      "text/html": [
       "<div>\n",
       "<style scoped>\n",
       "    .dataframe tbody tr th:only-of-type {\n",
       "        vertical-align: middle;\n",
       "    }\n",
       "\n",
       "    .dataframe tbody tr th {\n",
       "        vertical-align: top;\n",
       "    }\n",
       "\n",
       "    .dataframe thead th {\n",
       "        text-align: right;\n",
       "    }\n",
       "</style>\n",
       "<table border=\"1\" class=\"dataframe\">\n",
       "  <thead>\n",
       "    <tr style=\"text-align: right;\">\n",
       "      <th></th>\n",
       "      <th>segment_id</th>\n",
       "      <th>emotion</th>\n",
       "      <th>seconds</th>\n",
       "      <th>sess</th>\n",
       "      <th>script</th>\n",
       "      <th>gender</th>\n",
       "    </tr>\n",
       "    <tr>\n",
       "      <th>Numb</th>\n",
       "      <th></th>\n",
       "      <th></th>\n",
       "      <th></th>\n",
       "      <th></th>\n",
       "      <th></th>\n",
       "      <th></th>\n",
       "    </tr>\n",
       "  </thead>\n",
       "  <tbody>\n",
       "    <tr>\n",
       "      <th>1</th>\n",
       "      <td>Sess01_script01_User002M_001</td>\n",
       "      <td>neutral</td>\n",
       "      <td>8.059001</td>\n",
       "      <td>01</td>\n",
       "      <td>01</td>\n",
       "      <td>M</td>\n",
       "    </tr>\n",
       "    <tr>\n",
       "      <th>2</th>\n",
       "      <td>Sess01_script01_User002M_002</td>\n",
       "      <td>neutral</td>\n",
       "      <td>11.697002</td>\n",
       "      <td>01</td>\n",
       "      <td>01</td>\n",
       "      <td>M</td>\n",
       "    </tr>\n",
       "    <tr>\n",
       "      <th>3</th>\n",
       "      <td>Sess01_script01_User002M_003</td>\n",
       "      <td>neutral</td>\n",
       "      <td>8.223999</td>\n",
       "      <td>01</td>\n",
       "      <td>01</td>\n",
       "      <td>M</td>\n",
       "    </tr>\n",
       "    <tr>\n",
       "      <th>4</th>\n",
       "      <td>Sess01_script01_User002M_004</td>\n",
       "      <td>neutral</td>\n",
       "      <td>11.411998</td>\n",
       "      <td>01</td>\n",
       "      <td>01</td>\n",
       "      <td>M</td>\n",
       "    </tr>\n",
       "    <tr>\n",
       "      <th>5</th>\n",
       "      <td>Sess01_script01_User001F_001</td>\n",
       "      <td>neutral</td>\n",
       "      <td>2.086000</td>\n",
       "      <td>01</td>\n",
       "      <td>01</td>\n",
       "      <td>F</td>\n",
       "    </tr>\n",
       "  </tbody>\n",
       "</table>\n",
       "</div>"
      ],
      "text/plain": [
       "                        segment_id  emotion    seconds sess script gender\n",
       "Numb                                                                     \n",
       "1     Sess01_script01_User002M_001  neutral   8.059001   01     01      M\n",
       "2     Sess01_script01_User002M_002  neutral  11.697002   01     01      M\n",
       "3     Sess01_script01_User002M_003  neutral   8.223999   01     01      M\n",
       "4     Sess01_script01_User002M_004  neutral  11.411998   01     01      M\n",
       "5     Sess01_script01_User001F_001  neutral   2.086000   01     01      F"
      ]
     },
     "execution_count": 4,
     "metadata": {},
     "output_type": "execute_result"
    }
   ],
   "source": [
    "# 모든 segment_id에 따른 테이블 생성 (annotation)\n",
    "\n",
    "anno_FList = os.listdir(path_dir+'/annotation')\n",
    "file = anno_FList[0]\n",
    "sess_num = 'Session'+file[4:6]\n",
    "sess = pd.read_csv(path_dir+'/annotation/'+file, header=0, index_col=0, skiprows=[1], usecols=[0, 1, 2, 3, 4])\n",
    "sess.columns = ['start', 'end', 'segment_id', 'emotion']\n",
    "sess['seconds'] = sess.end - sess.start\n",
    "sess.drop(labels=['start', 'end'], axis=1, inplace=True)\n",
    "\n",
    "sess['sess'] = sess['segment_id'].str.split('_').str[0].str[-2:] # file[4:6]\n",
    "sess['script'] = sess['segment_id'].str.split('_').str[1].str[-2:]\n",
    "sess['gender'] = sess['segment_id'].str.split('_').str[2].str[-1:]\n",
    "sess.head()"
   ]
  },
  {
   "cell_type": "code",
   "execution_count": 5,
   "metadata": {
    "colab": {
     "base_uri": "https://localhost:8080/"
    },
    "executionInfo": {
     "elapsed": 617,
     "status": "ok",
     "timestamp": 1679504177044,
     "user": {
      "displayName": "유소영",
      "userId": "12294653541891676256"
     },
     "user_tz": -540
    },
    "id": "XVjvyovOSl1P",
    "outputId": "fe90f87a-2f88-4689-ec26-3020dbf4c4dc"
   },
   "outputs": [
    {
     "name": "stderr",
     "output_type": "stream",
     "text": [
      "100%|█████████████████████████████████████████████████████████████████████████████████| 40/40 [00:00<00:00, 201.46it/s]\n"
     ]
    }
   ],
   "source": [
    "# [20년도 데이터] 세션, 스크립트별 텍스트 확인, 파일 저장 코드\n",
    "\n",
    "all_sess = pd.DataFrame(columns=['segment_id', 'emotion', 'seconds', 'sess', 'script'])\n",
    "for file in tqdm(anno_FList):\n",
    "  sess_num = 'Session'+file[4:6]\n",
    "  sess = pd.read_csv(path_dir+'/annotation/'+file, header=0, index_col=0, skiprows=[1], usecols=[0, 1, 2, 3, 4])\n",
    "  sess.columns = ['start', 'end', 'segment_id', 'emotion']\n",
    "  sess['seconds'] = sess.end - sess.start\n",
    "  sess.drop(labels=['start', 'end'], axis=1, inplace=True)\n",
    "  sess['sess'] = sess['segment_id'].str.split('_').str[0].str[-2:] # file[4:6]\n",
    "  sess['script'] = sess['segment_id'].str.split('_').str[1].str[-2:]\n",
    "  \n",
    "\n",
    "  all_sess = pd.concat([all_sess, sess], axis=0)\n",
    "all_sess.sort_values(['sess', 'script'], inplace=True)\n",
    "all_sess.reset_index(drop=True, inplace=True)\n",
    "all_sess.to_pickle(save_dir+'/all_annotation.pkl')"
   ]
  },
  {
   "cell_type": "code",
   "execution_count": 6,
   "metadata": {
    "colab": {
     "base_uri": "https://localhost:8080/",
     "height": 395
    },
    "executionInfo": {
     "elapsed": 17,
     "status": "ok",
     "timestamp": 1679504179067,
     "user": {
      "displayName": "유소영",
      "userId": "12294653541891676256"
     },
     "user_tz": -540
    },
    "id": "baUPi3bxPVos",
    "outputId": "9b0e23e7-e2ba-4ede-d661-a72855240a1a"
   },
   "outputs": [
    {
     "data": {
      "text/html": [
       "<div>\n",
       "<style scoped>\n",
       "    .dataframe tbody tr th:only-of-type {\n",
       "        vertical-align: middle;\n",
       "    }\n",
       "\n",
       "    .dataframe tbody tr th {\n",
       "        vertical-align: top;\n",
       "    }\n",
       "\n",
       "    .dataframe thead th {\n",
       "        text-align: right;\n",
       "    }\n",
       "</style>\n",
       "<table border=\"1\" class=\"dataframe\">\n",
       "  <thead>\n",
       "    <tr style=\"text-align: right;\">\n",
       "      <th></th>\n",
       "      <th>segment_id</th>\n",
       "      <th>emotion</th>\n",
       "      <th>seconds</th>\n",
       "      <th>sess</th>\n",
       "      <th>script</th>\n",
       "    </tr>\n",
       "  </thead>\n",
       "  <tbody>\n",
       "    <tr>\n",
       "      <th>0</th>\n",
       "      <td>Sess01_script01_User002M_001</td>\n",
       "      <td>neutral</td>\n",
       "      <td>8.059001</td>\n",
       "      <td>01</td>\n",
       "      <td>01</td>\n",
       "    </tr>\n",
       "    <tr>\n",
       "      <th>1</th>\n",
       "      <td>Sess01_script01_User002M_002</td>\n",
       "      <td>neutral</td>\n",
       "      <td>11.697002</td>\n",
       "      <td>01</td>\n",
       "      <td>01</td>\n",
       "    </tr>\n",
       "    <tr>\n",
       "      <th>2</th>\n",
       "      <td>Sess01_script01_User002M_003</td>\n",
       "      <td>neutral</td>\n",
       "      <td>8.223999</td>\n",
       "      <td>01</td>\n",
       "      <td>01</td>\n",
       "    </tr>\n",
       "    <tr>\n",
       "      <th>3</th>\n",
       "      <td>Sess01_script01_User002M_004</td>\n",
       "      <td>neutral</td>\n",
       "      <td>11.411998</td>\n",
       "      <td>01</td>\n",
       "      <td>01</td>\n",
       "    </tr>\n",
       "    <tr>\n",
       "      <th>4</th>\n",
       "      <td>Sess01_script01_User001F_001</td>\n",
       "      <td>neutral</td>\n",
       "      <td>2.086000</td>\n",
       "      <td>01</td>\n",
       "      <td>01</td>\n",
       "    </tr>\n",
       "  </tbody>\n",
       "</table>\n",
       "</div>"
      ],
      "text/plain": [
       "                     segment_id  emotion    seconds sess script\n",
       "0  Sess01_script01_User002M_001  neutral   8.059001   01     01\n",
       "1  Sess01_script01_User002M_002  neutral  11.697002   01     01\n",
       "2  Sess01_script01_User002M_003  neutral   8.223999   01     01\n",
       "3  Sess01_script01_User002M_004  neutral  11.411998   01     01\n",
       "4  Sess01_script01_User001F_001  neutral   2.086000   01     01"
      ]
     },
     "metadata": {},
     "output_type": "display_data"
    },
    {
     "data": {
      "text/html": [
       "<div>\n",
       "<style scoped>\n",
       "    .dataframe tbody tr th:only-of-type {\n",
       "        vertical-align: middle;\n",
       "    }\n",
       "\n",
       "    .dataframe tbody tr th {\n",
       "        vertical-align: top;\n",
       "    }\n",
       "\n",
       "    .dataframe thead th {\n",
       "        text-align: right;\n",
       "    }\n",
       "</style>\n",
       "<table border=\"1\" class=\"dataframe\">\n",
       "  <thead>\n",
       "    <tr style=\"text-align: right;\">\n",
       "      <th></th>\n",
       "      <th>segment_id</th>\n",
       "      <th>emotion</th>\n",
       "      <th>seconds</th>\n",
       "      <th>sess</th>\n",
       "      <th>script</th>\n",
       "    </tr>\n",
       "  </thead>\n",
       "  <tbody>\n",
       "    <tr>\n",
       "      <th>13457</th>\n",
       "      <td>Sess40_script06_User079F_043</td>\n",
       "      <td>neutral</td>\n",
       "      <td>5.49302</td>\n",
       "      <td>40</td>\n",
       "      <td>06</td>\n",
       "    </tr>\n",
       "    <tr>\n",
       "      <th>13458</th>\n",
       "      <td>Sess40_script06_User079F_044</td>\n",
       "      <td>neutral</td>\n",
       "      <td>2.65500</td>\n",
       "      <td>40</td>\n",
       "      <td>06</td>\n",
       "    </tr>\n",
       "    <tr>\n",
       "      <th>13459</th>\n",
       "      <td>Sess40_script06_User079F_045</td>\n",
       "      <td>neutral</td>\n",
       "      <td>6.57300</td>\n",
       "      <td>40</td>\n",
       "      <td>06</td>\n",
       "    </tr>\n",
       "    <tr>\n",
       "      <th>13460</th>\n",
       "      <td>Sess40_script06_User079F_046</td>\n",
       "      <td>neutral</td>\n",
       "      <td>2.69200</td>\n",
       "      <td>40</td>\n",
       "      <td>06</td>\n",
       "    </tr>\n",
       "    <tr>\n",
       "      <th>13461</th>\n",
       "      <td>Sess40_script06_User079F_047</td>\n",
       "      <td>neutral</td>\n",
       "      <td>2.24400</td>\n",
       "      <td>40</td>\n",
       "      <td>06</td>\n",
       "    </tr>\n",
       "  </tbody>\n",
       "</table>\n",
       "</div>"
      ],
      "text/plain": [
       "                         segment_id  emotion  seconds sess script\n",
       "13457  Sess40_script06_User079F_043  neutral  5.49302   40     06\n",
       "13458  Sess40_script06_User079F_044  neutral  2.65500   40     06\n",
       "13459  Sess40_script06_User079F_045  neutral  6.57300   40     06\n",
       "13460  Sess40_script06_User079F_046  neutral  2.69200   40     06\n",
       "13461  Sess40_script06_User079F_047  neutral  2.24400   40     06"
      ]
     },
     "metadata": {},
     "output_type": "display_data"
    }
   ],
   "source": [
    "display(all_sess.head())\n",
    "display(all_sess.tail())"
   ]
  },
  {
   "cell_type": "code",
   "execution_count": 7,
   "metadata": {
    "colab": {
     "base_uri": "https://localhost:8080/",
     "height": 353
    },
    "executionInfo": {
     "elapsed": 370,
     "status": "ok",
     "timestamp": 1679507778704,
     "user": {
      "displayName": "유소영",
      "userId": "12294653541891676256"
     },
     "user_tz": -540
    },
    "id": "o7FXbAi1RCrU",
    "outputId": "f1e7f9f7-d7d5-4ab8-ddec-e3a53881b04b"
   },
   "outputs": [
    {
     "name": "stderr",
     "output_type": "stream",
     "text": [
      "100%|██████████████████████████████████████████████████████████████████████████| 13462/13462 [00:06<00:00, 1972.43it/s]\n"
     ]
    },
    {
     "data": {
      "text/html": [
       "<div>\n",
       "<style scoped>\n",
       "    .dataframe tbody tr th:only-of-type {\n",
       "        vertical-align: middle;\n",
       "    }\n",
       "\n",
       "    .dataframe tbody tr th {\n",
       "        vertical-align: top;\n",
       "    }\n",
       "\n",
       "    .dataframe thead th {\n",
       "        text-align: right;\n",
       "    }\n",
       "</style>\n",
       "<table border=\"1\" class=\"dataframe\">\n",
       "  <thead>\n",
       "    <tr style=\"text-align: right;\">\n",
       "      <th></th>\n",
       "      <th>segment_id</th>\n",
       "      <th>emotion</th>\n",
       "      <th>seconds</th>\n",
       "      <th>sess</th>\n",
       "      <th>script</th>\n",
       "      <th>wav</th>\n",
       "    </tr>\n",
       "  </thead>\n",
       "  <tbody>\n",
       "    <tr>\n",
       "      <th>0</th>\n",
       "      <td>Sess01_script01_User002M_001</td>\n",
       "      <td>neutral</td>\n",
       "      <td>8.059001</td>\n",
       "      <td>01</td>\n",
       "      <td>01</td>\n",
       "      <td>[0.052612305, 0.05267334, 0.051971436, 0.05163...</td>\n",
       "    </tr>\n",
       "    <tr>\n",
       "      <th>1</th>\n",
       "      <td>Sess01_script01_User002M_002</td>\n",
       "      <td>neutral</td>\n",
       "      <td>11.697002</td>\n",
       "      <td>01</td>\n",
       "      <td>01</td>\n",
       "      <td>[-0.0022888184, -0.0038452148, -0.004211426, -...</td>\n",
       "    </tr>\n",
       "  </tbody>\n",
       "</table>\n",
       "</div>"
      ],
      "text/plain": [
       "                     segment_id  emotion    seconds sess script  \\\n",
       "0  Sess01_script01_User002M_001  neutral   8.059001   01     01   \n",
       "1  Sess01_script01_User002M_002  neutral  11.697002   01     01   \n",
       "\n",
       "                                                 wav  \n",
       "0  [0.052612305, 0.05267334, 0.051971436, 0.05163...  \n",
       "1  [-0.0022888184, -0.0038452148, -0.004211426, -...  "
      ]
     },
     "metadata": {},
     "output_type": "display_data"
    },
    {
     "data": {
      "text/html": [
       "<div>\n",
       "<style scoped>\n",
       "    .dataframe tbody tr th:only-of-type {\n",
       "        vertical-align: middle;\n",
       "    }\n",
       "\n",
       "    .dataframe tbody tr th {\n",
       "        vertical-align: top;\n",
       "    }\n",
       "\n",
       "    .dataframe thead th {\n",
       "        text-align: right;\n",
       "    }\n",
       "</style>\n",
       "<table border=\"1\" class=\"dataframe\">\n",
       "  <thead>\n",
       "    <tr style=\"text-align: right;\">\n",
       "      <th></th>\n",
       "      <th>segment_id</th>\n",
       "      <th>emotion</th>\n",
       "      <th>seconds</th>\n",
       "      <th>sess</th>\n",
       "      <th>script</th>\n",
       "      <th>wav</th>\n",
       "      <th>wav_sum</th>\n",
       "    </tr>\n",
       "  </thead>\n",
       "  <tbody>\n",
       "    <tr>\n",
       "      <th>0</th>\n",
       "      <td>Sess01_script01_User002M_001</td>\n",
       "      <td>neutral</td>\n",
       "      <td>8.059001</td>\n",
       "      <td>01</td>\n",
       "      <td>01</td>\n",
       "      <td>[0.052612305, 0.05267334, 0.051971436, 0.05163...</td>\n",
       "      <td>4152.089264</td>\n",
       "    </tr>\n",
       "    <tr>\n",
       "      <th>1</th>\n",
       "      <td>Sess01_script01_User002M_002</td>\n",
       "      <td>neutral</td>\n",
       "      <td>11.697002</td>\n",
       "      <td>01</td>\n",
       "      <td>01</td>\n",
       "      <td>[-0.0022888184, -0.0038452148, -0.004211426, -...</td>\n",
       "      <td>6209.839325</td>\n",
       "    </tr>\n",
       "    <tr>\n",
       "      <th>2</th>\n",
       "      <td>Sess01_script01_User002M_003</td>\n",
       "      <td>neutral</td>\n",
       "      <td>8.223999</td>\n",
       "      <td>01</td>\n",
       "      <td>01</td>\n",
       "      <td>[-0.049682617, -0.054748535, -0.0574646, -0.05...</td>\n",
       "      <td>5556.708740</td>\n",
       "    </tr>\n",
       "    <tr>\n",
       "      <th>3</th>\n",
       "      <td>Sess01_script01_User002M_004</td>\n",
       "      <td>neutral</td>\n",
       "      <td>11.411998</td>\n",
       "      <td>01</td>\n",
       "      <td>01</td>\n",
       "      <td>[-0.002380371, -0.0028381348, -0.0024719238, -...</td>\n",
       "      <td>6677.079102</td>\n",
       "    </tr>\n",
       "    <tr>\n",
       "      <th>4</th>\n",
       "      <td>Sess01_script01_User001F_001</td>\n",
       "      <td>neutral</td>\n",
       "      <td>2.086000</td>\n",
       "      <td>01</td>\n",
       "      <td>01</td>\n",
       "      <td>[-0.0018310547, -0.0014648438, -0.0014038086, ...</td>\n",
       "      <td>430.743164</td>\n",
       "    </tr>\n",
       "  </tbody>\n",
       "</table>\n",
       "</div>"
      ],
      "text/plain": [
       "                     segment_id  emotion    seconds sess script  \\\n",
       "0  Sess01_script01_User002M_001  neutral   8.059001   01     01   \n",
       "1  Sess01_script01_User002M_002  neutral  11.697002   01     01   \n",
       "2  Sess01_script01_User002M_003  neutral   8.223999   01     01   \n",
       "3  Sess01_script01_User002M_004  neutral  11.411998   01     01   \n",
       "4  Sess01_script01_User001F_001  neutral   2.086000   01     01   \n",
       "\n",
       "                                                 wav      wav_sum  \n",
       "0  [0.052612305, 0.05267334, 0.051971436, 0.05163...  4152.089264  \n",
       "1  [-0.0022888184, -0.0038452148, -0.004211426, -...  6209.839325  \n",
       "2  [-0.049682617, -0.054748535, -0.0574646, -0.05...  5556.708740  \n",
       "3  [-0.002380371, -0.0028381348, -0.0024719238, -...  6677.079102  \n",
       "4  [-0.0018310547, -0.0014648438, -0.0014038086, ...   430.743164  "
      ]
     },
     "metadata": {},
     "output_type": "display_data"
    },
    {
     "data": {
      "text/html": [
       "<div>\n",
       "<style scoped>\n",
       "    .dataframe tbody tr th:only-of-type {\n",
       "        vertical-align: middle;\n",
       "    }\n",
       "\n",
       "    .dataframe tbody tr th {\n",
       "        vertical-align: top;\n",
       "    }\n",
       "\n",
       "    .dataframe thead th {\n",
       "        text-align: right;\n",
       "    }\n",
       "</style>\n",
       "<table border=\"1\" class=\"dataframe\">\n",
       "  <thead>\n",
       "    <tr style=\"text-align: right;\">\n",
       "      <th></th>\n",
       "      <th>segment_id</th>\n",
       "      <th>emotion</th>\n",
       "      <th>seconds</th>\n",
       "      <th>sess</th>\n",
       "      <th>script</th>\n",
       "    </tr>\n",
       "  </thead>\n",
       "  <tbody>\n",
       "    <tr>\n",
       "      <th>0</th>\n",
       "      <td>Sess01_script01_User002M_001</td>\n",
       "      <td>neutral</td>\n",
       "      <td>8.059001</td>\n",
       "      <td>01</td>\n",
       "      <td>01</td>\n",
       "    </tr>\n",
       "    <tr>\n",
       "      <th>1</th>\n",
       "      <td>Sess01_script01_User002M_002</td>\n",
       "      <td>neutral</td>\n",
       "      <td>11.697002</td>\n",
       "      <td>01</td>\n",
       "      <td>01</td>\n",
       "    </tr>\n",
       "    <tr>\n",
       "      <th>2</th>\n",
       "      <td>Sess01_script01_User002M_003</td>\n",
       "      <td>neutral</td>\n",
       "      <td>8.223999</td>\n",
       "      <td>01</td>\n",
       "      <td>01</td>\n",
       "    </tr>\n",
       "    <tr>\n",
       "      <th>3</th>\n",
       "      <td>Sess01_script01_User002M_004</td>\n",
       "      <td>neutral</td>\n",
       "      <td>11.411998</td>\n",
       "      <td>01</td>\n",
       "      <td>01</td>\n",
       "    </tr>\n",
       "    <tr>\n",
       "      <th>4</th>\n",
       "      <td>Sess01_script01_User001F_001</td>\n",
       "      <td>neutral</td>\n",
       "      <td>2.086000</td>\n",
       "      <td>01</td>\n",
       "      <td>01</td>\n",
       "    </tr>\n",
       "  </tbody>\n",
       "</table>\n",
       "</div>"
      ],
      "text/plain": [
       "                     segment_id  emotion    seconds sess script\n",
       "0  Sess01_script01_User002M_001  neutral   8.059001   01     01\n",
       "1  Sess01_script01_User002M_002  neutral  11.697002   01     01\n",
       "2  Sess01_script01_User002M_003  neutral   8.223999   01     01\n",
       "3  Sess01_script01_User002M_004  neutral  11.411998   01     01\n",
       "4  Sess01_script01_User001F_001  neutral   2.086000   01     01"
      ]
     },
     "metadata": {},
     "output_type": "display_data"
    },
    {
     "name": "stdout",
     "output_type": "stream",
     "text": [
      "(13452, 5)\n"
     ]
    }
   ],
   "source": [
    "# [전처리 1] wav 결측 파일 삭제\n",
    "\n",
    "#all_sess = pd.read_pickle(save_dir+'/all_annotation.pkl')\n",
    "\n",
    "all_wav = []\n",
    "for f_n in tqdm(all_sess.segment_id):\n",
    "  sess = 'Session'+f_n[4:6]\n",
    "  wav, sr = librosa.load(path_dir+'/wav/'+sess+'/'+f_n+'.wav', sr=16000)\n",
    "  all_wav.append(wav)\n",
    "all_sess['wav'] = all_wav\n",
    "\n",
    "display(all_sess.head(2))\n",
    "\n",
    "# 모두 0인 데이터 확인\n",
    "all_sess['wav_sum'] = [sum(np.abs(wav_)) for wav_ in all_sess.wav.tolist()]\n",
    "\n",
    "wav_loss_seg = all_sess.loc[all_sess['wav_sum']==0, 'segment_id'].tolist()\n",
    "#print(wav_loss_seg)\n",
    "\n",
    "all_sess = all_sess.loc[~all_sess['segment_id'].isin(wav_loss_seg)]\n",
    "display(all_sess.head())\n",
    "#print(all_sess.shape)\n",
    "\n",
    "wav_loss_seg = all_sess.loc[all_sess['wav_sum']==0, 'segment_id'].tolist()\n",
    "#print(wav_loss_seg)\n",
    "\n",
    "all_sess = all_sess.loc[~all_sess['segment_id'].isin(wav_loss_seg)]\n",
    "all_sess.drop(labels=['wav', 'wav_sum'], axis=1, inplace=True)\n",
    "display(all_sess.head())\n",
    "print(all_sess.shape)\n",
    "\n",
    "#all_sess.to_pickle(save_dir+'/all_annotation.pkl')"
   ]
  },
  {
   "cell_type": "code",
   "execution_count": 8,
   "metadata": {},
   "outputs": [
    {
     "name": "stdout",
     "output_type": "stream",
     "text": [
      "(13381, 5)\n"
     ]
    }
   ],
   "source": [
    "# [전처리 2] 센서 데이터 결측 파일 삭제\n",
    "\n",
    "## 센서 데이터 (eda, temp) 불러와서 확인\n",
    "# (1) EDA\n",
    "eda_dir = path_dir+'/EDA' # path_dir\n",
    "eda_sess_FList = os.listdir(eda_dir)\n",
    "# 저장할 파일 경로\n",
    "drop_eda_dir = path_dir+'/new/sensor/EDA/'\n",
    "\n",
    " # 세션에서 스크립트별로 나눠져있던 eda 데이터 합치기기\n",
    "for folder in eda_sess_FList:\n",
    "  lst = []\n",
    "  sess_save=[] # ('session_number', 'EDA')\n",
    "  eda_FList = os.listdir(eda_dir+'/'+folder)\n",
    "  for script in eda_FList:\n",
    "      with open(eda_dir+'/'+folder+'/'+script) as lines:\n",
    "        b = list(map(str, script.split('_')))\n",
    "        for line in lines:\n",
    "          data = line.strip().split(',')\n",
    "          if len(data)==3:\n",
    "            a = list(map(str, data[2].split('_')))\n",
    "            data[2] = data[2].replace(a[0],b[0])\n",
    "            lst.append(data)\n",
    "  df = pd.DataFrame(lst, columns=['data','date','sess'])\n",
    "  df = df.astype({'data':float})  \n",
    "  \n",
    "  sess_name = df.sess.unique()\n",
    "  for sess in sess_name:\n",
    "    eda=list(df[df.sess == sess].data.values)\n",
    "    sess_list = [sess, eda]\n",
    "    sess_save.append(sess_list)\n",
    "  sess_save_df = pd.DataFrame(sess_save, columns=['session', 'eda'])\n",
    "  sess_save_df.to_pickle(drop_eda_dir+folder+'_eda.pkl')\n",
    "    \n",
    "# (2) Temp\n",
    "temp_dir = path_dir+'/TEMP'\n",
    "temp_sess_FList = os.listdir(temp_dir)\n",
    "# 저장할 파일 경로\n",
    "drop_temp_dir = path_dir+'/new/sensor/Temp/'\n",
    "\n",
    "# 세션에서 스크립트별로 나눠져있던 temp 데이터 합치기\n",
    "for folder in temp_sess_FList:\n",
    "  lst = []\n",
    "  sess_save=[] \n",
    "  temp_FList = os.listdir(temp_dir+'/'+folder)\n",
    "  for script in temp_FList:\n",
    "      with open(temp_dir+'/'+folder+'/'+script) as lines:\n",
    "        b = list(map(str, script.split('_')))\n",
    "        for line in lines:\n",
    "          data = line.strip().split(',')\n",
    "          if len(data)==3:\n",
    "            a = list(map(str, data[2].split('_')))\n",
    "            data[2] = data[2].replace(a[0],b[0])\n",
    "            lst.append(data)\n",
    "  df = pd.DataFrame(lst, columns=['data','date','sess'])\n",
    "  df = df.astype({'data':float})  \n",
    "  \n",
    "  sess_name = df.sess.unique()\n",
    "  for sess in sess_name:\n",
    "    eda=list(df[df.sess == sess].data.values)\n",
    "    sess_list = [sess, eda]\n",
    "    sess_save.append(sess_list)\n",
    "\n",
    "  sess_save_df = pd.DataFrame(sess_save, columns=['session', 'temp'])\n",
    "  sess_save_df.to_pickle(drop_temp_dir+folder+'_temp.pkl')\n",
    "    \n",
    "eda_sess_FList = sorted(os.listdir(drop_eda_dir))\n",
    "temp_sess_FList = sorted(os.listdir(drop_temp_dir))\n",
    "\n",
    "all_bio = pd.DataFrame(columns=['segment_id','eda','temp'])\n",
    "\n",
    "for eda, temp in zip(eda_sess_FList, temp_sess_FList):\n",
    "  #print(eda, temp)\n",
    "  TEMP = pd.read_pickle(path_dir+'/new/sensor/Temp/'+ temp )\n",
    "  EDA = pd.read_pickle(path_dir+'/new/sensor/EDA/'+ eda )\n",
    "  TEMP.columns = ['segment_id','temp']\n",
    "  EDA.columns = ['segment_id','eda']\n",
    "  bio = EDA.merge(TEMP, on = 'segment_id')\n",
    "  all_bio = pd.concat([all_bio, bio], ignore_index=True)\n",
    "\n",
    "#결측 파일\n",
    "diff_seg = all_sess.merge(all_bio, on = 'segment_id', how='inner')\n",
    "\n",
    "all_sess = all_sess.loc[all_sess['segment_id'].isin(diff_seg.segment_id.tolist())]\n",
    "print(all_sess.shape)"
   ]
  },
  {
   "cell_type": "code",
   "execution_count": 9,
   "metadata": {},
   "outputs": [
    {
     "name": "stdout",
     "output_type": "stream",
     "text": [
      "['neutral' 'happy' 'surprise' 'angry' 'disgust' 'sad' 'fear']\n",
      "(처리한 데이터) 감정 클래스에 대한 데이터 개수:\n"
     ]
    },
    {
     "data": {
      "text/plain": [
       "neutral     11060\n",
       "happy        1171\n",
       "surprise      156\n",
       "angry         143\n",
       "sad           121\n",
       "disgust        60\n",
       "fear           43\n",
       "Name: emotion, dtype: int64"
      ]
     },
     "metadata": {},
     "output_type": "display_data"
    },
    {
     "data": {
      "image/png": "[encoded data removed]",
      "text/plain": [
       "<Figure size 640x480 with 1 Axes>"
      ]
     },
     "metadata": {},
     "output_type": "display_data"
    }
   ],
   "source": [
    "# [전처리 3] 멀티 클래스(분류된 감정 클래스 여러 개인 경우) 삭제 처리\n",
    "pd.set_option('mode.chained_assignment',  None)\n",
    "\n",
    "# 감정 두 개 이상 제외\n",
    "filter_ = all_sess['emotion'].str.contains(\";\")\n",
    "all_sess = all_sess[~filter_]\n",
    "\n",
    "# disqust --> disgust (오타 처리)\n",
    "all_sess.loc[all_sess.emotion=='disqust', 'emotion'] = 'disgust'\n",
    "print(all_sess.emotion.unique())\n",
    "\n",
    "## 시각화\n",
    "print('(처리한 데이터) 감정 클래스에 대한 데이터 개수:')\n",
    "display(all_sess.emotion.value_counts())\n",
    "\n",
    "all_count = Counter(all_sess.emotion.tolist())\n",
    "all_count = all_count.most_common()\n",
    "labels = [x for (x, y) in all_count]\n",
    "values = [y for (x, y) in all_count]\n",
    "\n",
    "plt.bar(np.arange(len(labels)), values)\n",
    "plt.xticks(np.arange(len(labels)), labels, rotation=45)\n",
    "plt.title('Total_emotion distirbution (After preprocessing)')\n",
    "plt.show()"
   ]
  },
  {
   "cell_type": "code",
   "execution_count": 10,
   "metadata": {
    "colab": {
     "base_uri": "https://localhost:8080/",
     "height": 450
    },
    "executionInfo": {
     "elapsed": 1095,
     "status": "ok",
     "timestamp": 1680853522379,
     "user": {
      "displayName": "유소영",
      "userId": "12294653541891676256"
     },
     "user_tz": -540
    },
    "id": "XRle7lLtRFJ5",
    "outputId": "e22ddaaf-f852-46e2-fb0b-bfd97b16d024"
   },
   "outputs": [
    {
     "name": "stdout",
     "output_type": "stream",
     "text": [
      "Test set - Sessions: [29, 22, 6, 39, 4, 7, 15, 12]\n",
      "(10140, 5)\n"
     ]
    },
    {
     "data": {
      "text/html": [
       "<div>\n",
       "<style scoped>\n",
       "    .dataframe tbody tr th:only-of-type {\n",
       "        vertical-align: middle;\n",
       "    }\n",
       "\n",
       "    .dataframe tbody tr th {\n",
       "        vertical-align: top;\n",
       "    }\n",
       "\n",
       "    .dataframe thead th {\n",
       "        text-align: right;\n",
       "    }\n",
       "</style>\n",
       "<table border=\"1\" class=\"dataframe\">\n",
       "  <thead>\n",
       "    <tr style=\"text-align: right;\">\n",
       "      <th></th>\n",
       "      <th>segment_id</th>\n",
       "      <th>emotion</th>\n",
       "      <th>seconds</th>\n",
       "      <th>sess</th>\n",
       "      <th>script</th>\n",
       "    </tr>\n",
       "  </thead>\n",
       "  <tbody>\n",
       "    <tr>\n",
       "      <th>10135</th>\n",
       "      <td>Sess40_script06_User079F_043</td>\n",
       "      <td>neutral</td>\n",
       "      <td>5.49302</td>\n",
       "      <td>40</td>\n",
       "      <td>06</td>\n",
       "    </tr>\n",
       "    <tr>\n",
       "      <th>10136</th>\n",
       "      <td>Sess40_script06_User079F_044</td>\n",
       "      <td>neutral</td>\n",
       "      <td>2.65500</td>\n",
       "      <td>40</td>\n",
       "      <td>06</td>\n",
       "    </tr>\n",
       "    <tr>\n",
       "      <th>10137</th>\n",
       "      <td>Sess40_script06_User079F_045</td>\n",
       "      <td>neutral</td>\n",
       "      <td>6.57300</td>\n",
       "      <td>40</td>\n",
       "      <td>06</td>\n",
       "    </tr>\n",
       "    <tr>\n",
       "      <th>10138</th>\n",
       "      <td>Sess40_script06_User079F_046</td>\n",
       "      <td>neutral</td>\n",
       "      <td>2.69200</td>\n",
       "      <td>40</td>\n",
       "      <td>06</td>\n",
       "    </tr>\n",
       "    <tr>\n",
       "      <th>10139</th>\n",
       "      <td>Sess40_script06_User079F_047</td>\n",
       "      <td>neutral</td>\n",
       "      <td>2.24400</td>\n",
       "      <td>40</td>\n",
       "      <td>06</td>\n",
       "    </tr>\n",
       "  </tbody>\n",
       "</table>\n",
       "</div>"
      ],
      "text/plain": [
       "                         segment_id  emotion  seconds  sess script\n",
       "10135  Sess40_script06_User079F_043  neutral  5.49302    40     06\n",
       "10136  Sess40_script06_User079F_044  neutral  2.65500    40     06\n",
       "10137  Sess40_script06_User079F_045  neutral  6.57300    40     06\n",
       "10138  Sess40_script06_User079F_046  neutral  2.69200    40     06\n",
       "10139  Sess40_script06_User079F_047  neutral  2.24400    40     06"
      ]
     },
     "metadata": {},
     "output_type": "display_data"
    },
    {
     "name": "stdout",
     "output_type": "stream",
     "text": [
      "(2614, 5)\n"
     ]
    },
    {
     "data": {
      "text/html": [
       "<div>\n",
       "<style scoped>\n",
       "    .dataframe tbody tr th:only-of-type {\n",
       "        vertical-align: middle;\n",
       "    }\n",
       "\n",
       "    .dataframe tbody tr th {\n",
       "        vertical-align: top;\n",
       "    }\n",
       "\n",
       "    .dataframe thead th {\n",
       "        text-align: right;\n",
       "    }\n",
       "</style>\n",
       "<table border=\"1\" class=\"dataframe\">\n",
       "  <thead>\n",
       "    <tr style=\"text-align: right;\">\n",
       "      <th></th>\n",
       "      <th>segment_id</th>\n",
       "      <th>emotion</th>\n",
       "      <th>seconds</th>\n",
       "      <th>sess</th>\n",
       "      <th>script</th>\n",
       "    </tr>\n",
       "  </thead>\n",
       "  <tbody>\n",
       "    <tr>\n",
       "      <th>2609</th>\n",
       "      <td>Sess39_script06_User077F_030</td>\n",
       "      <td>neutral</td>\n",
       "      <td>4.60600</td>\n",
       "      <td>39</td>\n",
       "      <td>06</td>\n",
       "    </tr>\n",
       "    <tr>\n",
       "      <th>2610</th>\n",
       "      <td>Sess39_script06_User077F_031</td>\n",
       "      <td>neutral</td>\n",
       "      <td>4.07800</td>\n",
       "      <td>39</td>\n",
       "      <td>06</td>\n",
       "    </tr>\n",
       "    <tr>\n",
       "      <th>2611</th>\n",
       "      <td>Sess39_script06_User077F_032</td>\n",
       "      <td>neutral</td>\n",
       "      <td>2.37600</td>\n",
       "      <td>39</td>\n",
       "      <td>06</td>\n",
       "    </tr>\n",
       "    <tr>\n",
       "      <th>2612</th>\n",
       "      <td>Sess39_script06_User077F_033</td>\n",
       "      <td>neutral</td>\n",
       "      <td>2.43700</td>\n",
       "      <td>39</td>\n",
       "      <td>06</td>\n",
       "    </tr>\n",
       "    <tr>\n",
       "      <th>2613</th>\n",
       "      <td>Sess39_script06_User077F_034</td>\n",
       "      <td>neutral</td>\n",
       "      <td>7.51602</td>\n",
       "      <td>39</td>\n",
       "      <td>06</td>\n",
       "    </tr>\n",
       "  </tbody>\n",
       "</table>\n",
       "</div>"
      ],
      "text/plain": [
       "                        segment_id  emotion  seconds  sess script\n",
       "2609  Sess39_script06_User077F_030  neutral  4.60600    39     06\n",
       "2610  Sess39_script06_User077F_031  neutral  4.07800    39     06\n",
       "2611  Sess39_script06_User077F_032  neutral  2.37600    39     06\n",
       "2612  Sess39_script06_User077F_033  neutral  2.43700    39     06\n",
       "2613  Sess39_script06_User077F_034  neutral  7.51602    39     06"
      ]
     },
     "metadata": {},
     "output_type": "display_data"
    }
   ],
   "source": [
    "# Train:Test = 8:2 분할 (uni_emotion 데이터로)\n",
    "\n",
    "all_sess['sess'] = all_sess['sess'].astype('int')\n",
    "test_session = random.sample(range(1, 40), int(40*0.2)) #[29, 22, 6, 39, 4, 7, 15, 12] \n",
    "print('Test set - Sessions:', test_session)\n",
    "\n",
    "train = all_sess.loc[~all_sess['sess'].isin(test_session), :]\n",
    "test = all_sess.loc[all_sess['sess'].isin(test_session), :]\n",
    "\n",
    "# save train, test pkl\n",
    "train.reset_index(drop=True, inplace=True)\n",
    "train.to_pickle(save_dir+'/train_origin.pkl')\n",
    "print(train.shape)\n",
    "display(train.tail())\n",
    "\n",
    "test.reset_index(drop=True, inplace=True)\n",
    "test.to_pickle(save_dir+'/test_origin.pkl')\n",
    "print(test.shape)\n",
    "display(test.tail())"
   ]
  },
  {
   "cell_type": "code",
   "execution_count": 11,
   "metadata": {
    "colab": {
     "base_uri": "https://localhost:8080/",
     "height": 395
    },
    "executionInfo": {
     "elapsed": 4,
     "status": "ok",
     "timestamp": 1680854081575,
     "user": {
      "displayName": "유소영",
      "userId": "12294653541891676256"
     },
     "user_tz": -540
    },
    "id": "RU29ctq3tKKU",
    "outputId": "372633c7-0d47-4028-f395-86b8dca885b7"
   },
   "outputs": [
    {
     "data": {
      "text/html": [
       "<div>\n",
       "<style scoped>\n",
       "    .dataframe tbody tr th:only-of-type {\n",
       "        vertical-align: middle;\n",
       "    }\n",
       "\n",
       "    .dataframe tbody tr th {\n",
       "        vertical-align: top;\n",
       "    }\n",
       "\n",
       "    .dataframe thead th {\n",
       "        text-align: right;\n",
       "    }\n",
       "</style>\n",
       "<table border=\"1\" class=\"dataframe\">\n",
       "  <thead>\n",
       "    <tr style=\"text-align: right;\">\n",
       "      <th></th>\n",
       "      <th>segment_id</th>\n",
       "      <th>sess</th>\n",
       "      <th>script</th>\n",
       "      <th>seconds</th>\n",
       "      <th>emotion</th>\n",
       "      <th>emotion_id</th>\n",
       "    </tr>\n",
       "  </thead>\n",
       "  <tbody>\n",
       "    <tr>\n",
       "      <th>0</th>\n",
       "      <td>Sess01_script01_User002M_001</td>\n",
       "      <td>01</td>\n",
       "      <td>01</td>\n",
       "      <td>8.059001</td>\n",
       "      <td>neutral</td>\n",
       "      <td>4</td>\n",
       "    </tr>\n",
       "    <tr>\n",
       "      <th>1</th>\n",
       "      <td>Sess01_script01_User002M_002</td>\n",
       "      <td>01</td>\n",
       "      <td>01</td>\n",
       "      <td>11.697002</td>\n",
       "      <td>neutral</td>\n",
       "      <td>4</td>\n",
       "    </tr>\n",
       "    <tr>\n",
       "      <th>2</th>\n",
       "      <td>Sess01_script01_User002M_003</td>\n",
       "      <td>01</td>\n",
       "      <td>01</td>\n",
       "      <td>8.223999</td>\n",
       "      <td>neutral</td>\n",
       "      <td>4</td>\n",
       "    </tr>\n",
       "    <tr>\n",
       "      <th>3</th>\n",
       "      <td>Sess01_script01_User002M_004</td>\n",
       "      <td>01</td>\n",
       "      <td>01</td>\n",
       "      <td>11.411998</td>\n",
       "      <td>neutral</td>\n",
       "      <td>4</td>\n",
       "    </tr>\n",
       "    <tr>\n",
       "      <th>4</th>\n",
       "      <td>Sess01_script01_User001F_001</td>\n",
       "      <td>01</td>\n",
       "      <td>01</td>\n",
       "      <td>2.086000</td>\n",
       "      <td>neutral</td>\n",
       "      <td>4</td>\n",
       "    </tr>\n",
       "  </tbody>\n",
       "</table>\n",
       "</div>"
      ],
      "text/plain": [
       "                     segment_id sess script    seconds  emotion  emotion_id\n",
       "0  Sess01_script01_User002M_001   01     01   8.059001  neutral           4\n",
       "1  Sess01_script01_User002M_002   01     01  11.697002  neutral           4\n",
       "2  Sess01_script01_User002M_003   01     01   8.223999  neutral           4\n",
       "3  Sess01_script01_User002M_004   01     01  11.411998  neutral           4\n",
       "4  Sess01_script01_User001F_001   01     01   2.086000  neutral           4"
      ]
     },
     "metadata": {},
     "output_type": "display_data"
    },
    {
     "data": {
      "text/html": [
       "<div>\n",
       "<style scoped>\n",
       "    .dataframe tbody tr th:only-of-type {\n",
       "        vertical-align: middle;\n",
       "    }\n",
       "\n",
       "    .dataframe tbody tr th {\n",
       "        vertical-align: top;\n",
       "    }\n",
       "\n",
       "    .dataframe thead th {\n",
       "        text-align: right;\n",
       "    }\n",
       "</style>\n",
       "<table border=\"1\" class=\"dataframe\">\n",
       "  <thead>\n",
       "    <tr style=\"text-align: right;\">\n",
       "      <th></th>\n",
       "      <th>segment_id</th>\n",
       "      <th>sess</th>\n",
       "      <th>script</th>\n",
       "      <th>seconds</th>\n",
       "      <th>emotion</th>\n",
       "      <th>emotion_id</th>\n",
       "    </tr>\n",
       "  </thead>\n",
       "  <tbody>\n",
       "    <tr>\n",
       "      <th>0</th>\n",
       "      <td>Sess04_script01_User007M_001</td>\n",
       "      <td>04</td>\n",
       "      <td>01</td>\n",
       "      <td>26.249999</td>\n",
       "      <td>neutral</td>\n",
       "      <td>4</td>\n",
       "    </tr>\n",
       "    <tr>\n",
       "      <th>1</th>\n",
       "      <td>Sess04_script01_User007M_002</td>\n",
       "      <td>04</td>\n",
       "      <td>01</td>\n",
       "      <td>8.505005</td>\n",
       "      <td>neutral</td>\n",
       "      <td>4</td>\n",
       "    </tr>\n",
       "    <tr>\n",
       "      <th>2</th>\n",
       "      <td>Sess04_script01_User007M_003</td>\n",
       "      <td>04</td>\n",
       "      <td>01</td>\n",
       "      <td>21.496994</td>\n",
       "      <td>neutral</td>\n",
       "      <td>4</td>\n",
       "    </tr>\n",
       "    <tr>\n",
       "      <th>3</th>\n",
       "      <td>Sess04_script01_User008F_001</td>\n",
       "      <td>04</td>\n",
       "      <td>01</td>\n",
       "      <td>5.090000</td>\n",
       "      <td>neutral</td>\n",
       "      <td>4</td>\n",
       "    </tr>\n",
       "    <tr>\n",
       "      <th>4</th>\n",
       "      <td>Sess04_script01_User008F_002</td>\n",
       "      <td>04</td>\n",
       "      <td>01</td>\n",
       "      <td>1.043000</td>\n",
       "      <td>neutral</td>\n",
       "      <td>4</td>\n",
       "    </tr>\n",
       "  </tbody>\n",
       "</table>\n",
       "</div>"
      ],
      "text/plain": [
       "                     segment_id sess script    seconds  emotion  emotion_id\n",
       "0  Sess04_script01_User007M_001   04     01  26.249999  neutral           4\n",
       "1  Sess04_script01_User007M_002   04     01   8.505005  neutral           4\n",
       "2  Sess04_script01_User007M_003   04     01  21.496994  neutral           4\n",
       "3  Sess04_script01_User008F_001   04     01   5.090000  neutral           4\n",
       "4  Sess04_script01_User008F_002   04     01   1.043000  neutral           4"
      ]
     },
     "metadata": {},
     "output_type": "display_data"
    }
   ],
   "source": [
    "# [전처리 4] 추가 전처리 (emotion_id 추가)\n",
    "\n",
    "le = LabelEncoder()\n",
    "le.fit(train.emotion.unique())\n",
    "train['emotion_id'] = le.transform(train.emotion.tolist())\n",
    "test['emotion_id'] = le.transform(test.emotion.tolist())\n",
    "\n",
    "# 순서 변경\n",
    "train = train[['segment_id', 'sess', 'script', 'seconds', 'emotion', 'emotion_id']]\n",
    "test = test[['segment_id', 'sess', 'script', 'seconds', 'emotion', 'emotion_id']]\n",
    "\n",
    "# sess column 수정\n",
    "train['sess'] = train['segment_id'].str.split('_').str[0].str[-2:] # int --> str\n",
    "test['sess'] = test['segment_id'].str.split('_').str[0].str[-2:]\n",
    "\n",
    "train.to_pickle(save_dir+'/train_origin.pkl')\n",
    "test.to_pickle(save_dir+'/test_origin.pkl')\n",
    "\n",
    "display(train.head())\n",
    "display(test.head())\n",
    "\n",
    "train['fold'] = 'train'\n",
    "test['fold'] = 'test'\n",
    "all_sess = pd.concat([train, test], axis=0)\n",
    "all_sess.to_pickle(save_dir+'/all_annotation.pkl')"
   ]
  },
  {
   "cell_type": "code",
   "execution_count": null,
   "metadata": {
    "id": "Skx7_eFeo7fQ"
   },
   "outputs": [],
   "source": [
    "## + 데이터 탐색적 데이터 분석"
   ]
  },
  {
   "cell_type": "code",
   "execution_count": 12,
   "metadata": {},
   "outputs": [
    {
     "data": {
      "image/png": "[encoded data removed]",
      "text/plain": [
       "<Figure size 640x480 with 1 Axes>"
      ]
     },
     "metadata": {},
     "output_type": "display_data"
    },
    {
     "data": {
      "text/plain": [
       "neutral     8750\n",
       "happy        977\n",
       "surprise     129\n",
       "angry        105\n",
       "sad           97\n",
       "disgust       45\n",
       "fear          37\n",
       "Name: emotion, dtype: int64"
      ]
     },
     "metadata": {},
     "output_type": "display_data"
    },
    {
     "data": {
      "image/png": "[encoded data removed]",
      "text/plain": [
       "<Figure size 640x480 with 1 Axes>"
      ]
     },
     "metadata": {},
     "output_type": "display_data"
    },
    {
     "data": {
      "text/plain": [
       "neutral     2310\n",
       "happy        194\n",
       "angry         38\n",
       "surprise      27\n",
       "sad           24\n",
       "disgust       15\n",
       "fear           6\n",
       "Name: emotion, dtype: int64"
      ]
     },
     "metadata": {},
     "output_type": "display_data"
    }
   ],
   "source": [
    "# Train, Test set에 따른 클래스 불균형 확인\n",
    "# Train\n",
    "train_count = Counter(train.emotion.tolist())\n",
    "train_count = train_count.most_common()\n",
    "labels = [x for (x, y) in train_count]\n",
    "values = [y for (x, y) in train_count]\n",
    "\n",
    "plt.bar(np.arange(len(labels)), values)\n",
    "plt.xticks(np.arange(len(labels)), labels, rotation=45)\n",
    "plt.title('Train_emotion distirbution (After preprocessing)')\n",
    "plt.show()\n",
    "\n",
    "display(train.emotion.value_counts())\n",
    "\n",
    "# Test\n",
    "test_count = Counter(test.emotion.tolist())\n",
    "test_count = test_count.most_common()\n",
    "labels = [x for (x, y) in test_count]\n",
    "values = [y for (x, y) in test_count]\n",
    "\n",
    "plt.bar(np.arange(len(labels)), values)\n",
    "plt.xticks(np.arange(len(labels)), labels, rotation=45)\n",
    "plt.title('Test_emotion distirbution (After preprocessing)')\n",
    "plt.show()\n",
    "\n",
    "display(test.emotion.value_counts())"
   ]
  },
  {
   "cell_type": "code",
   "execution_count": 13,
   "metadata": {
    "scrolled": false
   },
   "outputs": [
    {
     "name": "stdout",
     "output_type": "stream",
     "text": [
      "모든 데이터, 모든 클래스에 대한 발화 시간 분포\n"
     ]
    },
    {
     "data": {
      "text/plain": [
       "count    12754.000000\n",
       "mean         5.898129\n",
       "std          4.337874\n",
       "min          0.671000\n",
       "25%          2.748250\n",
       "50%          4.519498\n",
       "75%          7.729745\n",
       "max         35.216000\n",
       "Name: seconds, dtype: float64"
      ]
     },
     "metadata": {},
     "output_type": "display_data"
    },
    {
     "name": "stdout",
     "output_type": "stream",
     "text": [
      "\n",
      "모든 데이터, neutral 클래스에 대한 발화 시간 분포\n"
     ]
    },
    {
     "data": {
      "text/plain": [
       "count    11060.000000\n",
       "mean         5.790759\n",
       "std          4.293043\n",
       "min          0.671000\n",
       "25%          2.671000\n",
       "50%          4.391003\n",
       "75%          7.596003\n",
       "max         35.216000\n",
       "Name: seconds, dtype: float64"
      ]
     },
     "metadata": {},
     "output_type": "display_data"
    },
    {
     "name": "stdout",
     "output_type": "stream",
     "text": [
      "\n",
      "학습 데이터, 모든 클래스에 대한 발화 시간 분포\n"
     ]
    },
    {
     "data": {
      "text/plain": [
       "count    10140.000000\n",
       "mean         5.941214\n",
       "std          4.348458\n",
       "min          0.671000\n",
       "25%          2.776250\n",
       "50%          4.557001\n",
       "75%          7.793252\n",
       "max         35.216000\n",
       "Name: seconds, dtype: float64"
      ]
     },
     "metadata": {},
     "output_type": "display_data"
    },
    {
     "name": "stdout",
     "output_type": "stream",
     "text": [
      "\n",
      "학습 데이터, neutral 클래스에 대한 발화 시간 분포\n"
     ]
    },
    {
     "data": {
      "text/plain": [
       "count    8750.000000\n",
       "mean        5.844971\n",
       "std         4.313345\n",
       "min         0.671000\n",
       "25%         2.688001\n",
       "50%         4.421995\n",
       "75%         7.722492\n",
       "max        35.216000\n",
       "Name: seconds, dtype: float64"
      ]
     },
     "metadata": {},
     "output_type": "display_data"
    },
    {
     "name": "stdout",
     "output_type": "stream",
     "text": [
      "    bins  counts\n",
      "0    0~4    4090\n",
      "1    4~7    2409\n",
      "2   7~11    1182\n",
      "3  11~14     612\n",
      "4  14~17     253\n",
      "5  17~21     133\n",
      "6  21~24      60\n",
      "7  24~28       7\n",
      "8  28~31       2\n",
      "9  31~35       2\n"
     ]
    },
    {
     "data": {
      "image/png": "[encoded data removed]",
      "text/plain": [
       "<Figure size 640x480 with 1 Axes>"
      ]
     },
     "metadata": {},
     "output_type": "display_data"
    },
    {
     "data": {
      "image/png": "[encoded data removed]",
      "text/plain": [
       "<Figure size 640x480 with 1 Axes>"
      ]
     },
     "metadata": {},
     "output_type": "display_data"
    }
   ],
   "source": [
    "print('모든 데이터, 모든 클래스에 대한 발화 시간 분포')\n",
    "display(all_sess.seconds.describe())\n",
    "\n",
    "print('\\n모든 데이터, neutral 클래스에 대한 발화 시간 분포')\n",
    "display(all_sess.loc[all_sess['emotion']=='neutral', 'seconds'].describe())\n",
    "\n",
    "print('\\n학습 데이터, 모든 클래스에 대한 발화 시간 분포')\n",
    "display(train.seconds.describe())\n",
    "\n",
    "print('\\n학습 데이터, neutral 클래스에 대한 발화 시간 분포')\n",
    "neutral_time = train.loc[train['emotion']=='neutral', 'seconds']\n",
    "display(neutral_time.describe())\n",
    "counts, bins = np.histogram(neutral_time)\n",
    "\n",
    "new_bins = []\n",
    "for i in range(len(bins)-1):\n",
    "  bin = str(int(bins[i]))+'~'+str(int(bins[i+1]))\n",
    "  new_bins.append(bin)\n",
    "\n",
    "hist_table = pd.DataFrame()\n",
    "hist_table['bins'] = new_bins\n",
    "hist_table['counts'] = counts\n",
    "print(hist_table)\n",
    "\n",
    "plt.hist(neutral_time)\n",
    "plt.title('HIstogram')\n",
    "plt.show()\n",
    "\n",
    "plt.boxplot(neutral_time)\n",
    "plt.title('Box plot')\n",
    "plt.show()"
   ]
  },
  {
   "cell_type": "code",
   "execution_count": null,
   "metadata": {
    "id": "QoB6QJC0n_6l"
   },
   "outputs": [],
   "source": []
  }
 ],
 "metadata": {
  "colab": {
   "provenance": []
  },
  "kernelspec": {
   "display_name": "Python 3 (ipykernel)",
   "language": "python",
   "name": "python3"
  },
  "language_info": {
   "codemirror_mode": {
    "name": "ipython",
    "version": 3
   },
   "file_extension": ".py",
   "mimetype": "text/x-python",
   "name": "python",
   "nbconvert_exporter": "python",
   "pygments_lexer": "ipython3",
   "version": "3.9.13"
  }
 },
 "nbformat": 4,
 "nbformat_minor": 1
}
